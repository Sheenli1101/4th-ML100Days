{
 "cells": [
  {
   "cell_type": "markdown",
   "metadata": {},
   "source": [
    "# 讀取資料"
   ]
  },
  {
   "cell_type": "code",
   "execution_count": 2,
   "metadata": {},
   "outputs": [],
   "source": [
    "import os\n",
    "import numpy as np\n",
    "import pandas as pd"
   ]
  },
  {
   "cell_type": "code",
   "execution_count": 9,
   "metadata": {},
   "outputs": [],
   "source": [
    "dir_data = 'C:/Users/user/Downloads'"
   ]
  },
  {
   "cell_type": "code",
   "execution_count": 10,
   "metadata": {},
   "outputs": [
    {
     "name": "stdout",
     "output_type": "stream",
     "text": [
      "Path of read in data: C:/Users/user/Downloads\\HomeCredit_columns_description.csv\n"
     ]
    }
   ],
   "source": [
    "f_app = os.path.join(dir_data, 'HomeCredit_columns_description.csv')\n",
    "print('Path of read in data: %s' % (f_app))\n",
    "app_train = pd.read_csv(f_app)"
   ]
  },
  {
   "cell_type": "markdown",
   "metadata": {},
   "source": [
    "# 看資料大小"
   ]
  },
  {
   "cell_type": "code",
   "execution_count": 15,
   "metadata": {},
   "outputs": [
    {
     "data": {
      "text/plain": [
       "(219, 5)"
      ]
     },
     "execution_count": 15,
     "metadata": {},
     "output_type": "execute_result"
    }
   ],
   "source": [
    "app_train.shape"
   ]
  },
  {
   "cell_type": "markdown",
   "metadata": {},
   "source": [
    "# 看基本資料"
   ]
  },
  {
   "cell_type": "code",
   "execution_count": 17,
   "metadata": {},
   "outputs": [
    {
     "data": {
      "text/plain": [
       "<bound method NDFrame.describe of      Column1                         Table                    Row  \\\n",
       "0          1  application_{train|test}.csv             SK_ID_CURR   \n",
       "1          2  application_{train|test}.csv                 TARGET   \n",
       "2          5  application_{train|test}.csv     NAME_CONTRACT_TYPE   \n",
       "3          6  application_{train|test}.csv            CODE_GENDER   \n",
       "4          7  application_{train|test}.csv           FLAG_OWN_CAR   \n",
       "..       ...                           ...                    ...   \n",
       "214      217     installments_payments.csv  NUM_INSTALMENT_NUMBER   \n",
       "215      218     installments_payments.csv        DAYS_INSTALMENT   \n",
       "216      219     installments_payments.csv     DAYS_ENTRY_PAYMENT   \n",
       "217      220     installments_payments.csv         AMT_INSTALMENT   \n",
       "218      221     installments_payments.csv            AMT_PAYMENT   \n",
       "\n",
       "                                           Description  \\\n",
       "0                             ID of loan in our sample   \n",
       "1    Target variable (1 - client with payment diffi...   \n",
       "2          Identification if loan is cash or revolving   \n",
       "3                                 Gender of the client   \n",
       "4                        Flag if the client owns a car   \n",
       "..                                                 ...   \n",
       "214            On which installment we observe payment   \n",
       "215  When the installment of previous credit was su...   \n",
       "216  When was the installments of previous credit p...   \n",
       "217  What was the prescribed installment amount of ...   \n",
       "218  What the client actually paid on previous cred...   \n",
       "\n",
       "                                   Special  \n",
       "0                                      NaN  \n",
       "1                                      NaN  \n",
       "2                                      NaN  \n",
       "3                                      NaN  \n",
       "4                                      NaN  \n",
       "..                                     ...  \n",
       "214                                    NaN  \n",
       "215  time only relative to the application  \n",
       "216  time only relative to the application  \n",
       "217                                    NaN  \n",
       "218                                    NaN  \n",
       "\n",
       "[219 rows x 5 columns]>"
      ]
     },
     "execution_count": 17,
     "metadata": {},
     "output_type": "execute_result"
    }
   ],
   "source": [
    "app_train.describe"
   ]
  },
  {
   "cell_type": "markdown",
   "metadata": {},
   "source": [
    "# 看欄位"
   ]
  },
  {
   "cell_type": "code",
   "execution_count": 19,
   "metadata": {},
   "outputs": [
    {
     "data": {
      "text/plain": [
       "Index(['Column1', 'Table', 'Row', 'Description', 'Special'], dtype='object')"
      ]
     },
     "execution_count": 19,
     "metadata": {},
     "output_type": "execute_result"
    }
   ],
   "source": [
    "app_train.columns"
   ]
  },
  {
   "cell_type": "markdown",
   "metadata": {},
   "source": [
    "# 選取某個欄位的資料"
   ]
  },
  {
   "cell_type": "code",
   "execution_count": 20,
   "metadata": {},
   "outputs": [
    {
     "data": {
      "text/plain": [
       "0        1\n",
       "1        2\n",
       "2        5\n",
       "3        6\n",
       "4        7\n",
       "      ... \n",
       "214    217\n",
       "215    218\n",
       "216    219\n",
       "217    220\n",
       "218    221\n",
       "Name: Column1, Length: 219, dtype: int64"
      ]
     },
     "execution_count": 20,
     "metadata": {},
     "output_type": "execute_result"
    }
   ],
   "source": [
    "app_train[\"Column1\"]"
   ]
  },
  {
   "cell_type": "code",
   "execution_count": null,
   "metadata": {},
   "outputs": [],
   "source": []
  }
 ],
 "metadata": {
  "kernelspec": {
   "display_name": "Python 3",
   "language": "python",
   "name": "python3"
  },
  "language_info": {
   "codemirror_mode": {
    "name": "ipython",
    "version": 3
   },
   "file_extension": ".py",
   "mimetype": "text/x-python",
   "name": "python",
   "nbconvert_exporter": "python",
   "pygments_lexer": "ipython3",
   "version": "3.7.3"
  }
 },
 "nbformat": 4,
 "nbformat_minor": 2
}
