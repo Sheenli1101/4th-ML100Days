{
 "cells": [
  {
   "cell_type": "markdown",
   "metadata": {},
   "source": [
    "# [作業]"
   ]
  },
  {
   "cell_type": "markdown",
   "metadata": {},
   "source": [
    "## 文章"
   ]
  },
  {
   "cell_type": "markdown",
   "metadata": {},
   "source": [
    "深度學習在醫療領域的應用"
   ]
  },
  {
   "cell_type": "markdown",
   "metadata": {},
   "source": [
    "## 1.專案的目標？ (要解決什麼問題）"
   ]
  },
  {
   "cell_type": "markdown",
   "metadata": {},
   "source": [
    "機器學習對於從基因數據中進行表現型預測也發揮著重要作用，包括身高、疾病風險等複雜的性狀。\n",
    "\n",
    "原文網址：https://kknews.cc/health/kv8k29v.html"
   ]
  },
  {
   "cell_type": "markdown",
   "metadata": {},
   "source": [
    "## 2.使用的技術是？ (只需知道名稱即可，例如：使用 CNN 卷積神經網路做影像分類)"
   ]
  },
  {
   "cell_type": "markdown",
   "metadata": {},
   "source": [
    "計算機視覺、自然語言處理、強化學習、卷積神經網絡、深度學習"
   ]
  },
  {
   "cell_type": "markdown",
   "metadata": {},
   "source": [
    "## 3.資料來源？"
   ]
  },
  {
   "cell_type": "markdown",
   "metadata": {},
   "source": [
    "Nature Medicine"
   ]
  }
 ],
 "metadata": {
  "kernelspec": {
   "display_name": "Python 3",
   "language": "python",
   "name": "python3"
  },
  "language_info": {
   "codemirror_mode": {
    "name": "ipython",
    "version": 3
   },
   "file_extension": ".py",
   "mimetype": "text/x-python",
   "name": "python",
   "nbconvert_exporter": "python",
   "pygments_lexer": "ipython3",
   "version": "3.7.3"
  }
 },
 "nbformat": 4,
 "nbformat_minor": 2
}
