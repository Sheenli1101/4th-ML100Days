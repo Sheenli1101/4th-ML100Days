{
 "cells": [
  {
   "cell_type": "markdown",
   "metadata": {},
   "source": [
    "# [作業一]"
   ]
  },
  {
   "cell_type": "code",
   "execution_count": 9,
   "metadata": {},
   "outputs": [],
   "source": [
    "import numpy as np\n",
    "import matplotlib as plt\n",
    "def mean_square_error(y, yp):\n",
    "    mse = MSE = sum((y - yp) ** 2) / len(y)\n",
    "    return mse\n",
    "    "
   ]
  },
  {
   "cell_type": "markdown",
   "metadata": {},
   "source": [
    "# [作業二]"
   ]
  },
  {
   "cell_type": "code",
   "execution_count": 2,
   "metadata": {},
   "outputs": [],
   "source": [
    "資料來源:Trending YouTube Video Statistics\n",
    "1. 你選的這組資料為何重要\n",
    "    Ans:幫助上傳者了解影片會受歡迎的因素，再針對這些重要的因素去改善。\n",
    "2. 資料從何而來 (tips: 譬如提供者是誰、以什麼方式蒐集)\n",
    "    Ans:這個dataset是利用youtube API抓取。\n",
    "3. 蒐集而來的資料型態為何\n",
    "    Ans:為CSV檔案\n",
    "4. 這組資料想解決的問題如何評估\n",
    "    Ans:可以從發燒榜觀察己的影片是否有進榜。"
   ]
  },
  {
   "cell_type": "markdown",
   "metadata": {},
   "source": [
    "# [作業三]"
   ]
  },
  {
   "cell_type": "code",
   "execution_count": null,
   "metadata": {},
   "outputs": [],
   "source": [
    "1. 核心問題為何 (tips：如何定義 「提升業績 & 你的假設」)\n",
    "    Ans:提升業績可以想成提升載客率，所以可以去調查乘客會在哪裡搭車的機會高，可以將車輛多安排在該處。\n",
    "2. 資料從何而來 (tips：哪些資料可能會對你想問的問題產生影響 & 資料如何蒐集)\n",
    "    Ans:利用掃QR code進行問卷調查以蒐集資料。\n",
    "3. 蒐集而來的資料型態為何\n",
    "    Ans:會有結構性資料與非結構性資料。結構性資料比如是年齡、電子郵件等；非結構性資料比如是乘車地點或是下車地點。\n",
    "4. 你要回答的問題，其如何評估 (tips：你的假設如何驗證)\n",
    "    Ans: 可以利用文字探勘進行分群，找出甚麼種類的景點或設施乘客們會有較大的需求量。\n"
   ]
  }
 ],
 "metadata": {
  "kernelspec": {
   "display_name": "Python 3",
   "language": "python",
   "name": "python3"
  },
  "language_info": {
   "codemirror_mode": {
    "name": "ipython",
    "version": 3
   },
   "file_extension": ".py",
   "mimetype": "text/x-python",
   "name": "python",
   "nbconvert_exporter": "python",
   "pygments_lexer": "ipython3",
   "version": "3.7.3"
  }
 },
 "nbformat": 4,
 "nbformat_minor": 2
}
